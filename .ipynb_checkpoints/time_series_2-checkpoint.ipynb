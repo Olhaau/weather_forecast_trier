{
 "cells": [
  {
   "cell_type": "markdown",
   "metadata": {},
   "source": [
    "LSTM from:\n",
    "https://www.rs-online.com/designspark/predicting-weather-using-lstm\n",
    "\n",
    "https://github.com/danrustia11/WeatherLSTM"
   ]
  },
  {
   "cell_type": "code",
   "execution_count": null,
   "metadata": {},
   "outputs": [],
   "source": [
    "import pandas as pd\n",
    "import numpy as np\n",
    "import os\n",
    "import matplotlib.pyplot as plt\n",
    "import seaborn as sns\n",
    "\n",
    "%matplotlib inline"
   ]
  },
  {
   "cell_type": "code",
   "execution_count": 89,
   "metadata": {},
   "outputs": [],
   "source": [
    "weather_raw = pd.read_excel('input/weather_trier_all.xlsx')\n",
    "weather = weather_raw[[k % 3 == 0 for k in range(len(weather_raw))]]\n",
    "col_names = ['time', 'temperature', 'rain', 'sunshine']\n",
    "weather.columns = col_names\n",
    "years = [str(x)[:4] for x in weather['time']]\n",
    "\n",
    "# extract year and month from time\n",
    "weather = weather.assign(year = [x[:4] for x in weather.time],\n",
    "                        month = [x[-2:] for x in weather.time])\n",
    "\n",
    "# convertion to numeric where possible\n",
    "for col in weather.columns[1:]:\n",
    "    weather[col] = pd.to_numeric(weather[col], errors = 'coerce')\n",
    "\n",
    "# rearange for time series analysis and better readability\n",
    "weather = weather[::-1]\n",
    "weather.index = range(len(weather))\n",
    "weather = weather[['time','year','month', 'temperature', 'rain', 'sunshine']]\n",
    "\n",
    "for k in range(1,13):\n",
    "   weather[weather['month'] == k] = (weather[weather['month'] == k]\n",
    "                                            .fillna(weather[weather['month'] == k].mean()))"
   ]
  },
  {
   "cell_type": "code",
   "execution_count": 90,
   "metadata": {},
   "outputs": [
    {
     "data": {
      "text/html": [
       "<div>\n",
       "<style scoped>\n",
       "    .dataframe tbody tr th:only-of-type {\n",
       "        vertical-align: middle;\n",
       "    }\n",
       "\n",
       "    .dataframe tbody tr th {\n",
       "        vertical-align: top;\n",
       "    }\n",
       "\n",
       "    .dataframe thead th {\n",
       "        text-align: right;\n",
       "    }\n",
       "</style>\n",
       "<table border=\"1\" class=\"dataframe\">\n",
       "  <thead>\n",
       "    <tr style=\"text-align: right;\">\n",
       "      <th></th>\n",
       "      <th>count</th>\n",
       "      <th>mean</th>\n",
       "      <th>std</th>\n",
       "      <th>min</th>\n",
       "      <th>25%</th>\n",
       "      <th>50%</th>\n",
       "      <th>75%</th>\n",
       "      <th>max</th>\n",
       "    </tr>\n",
       "  </thead>\n",
       "  <tbody>\n",
       "    <tr>\n",
       "      <td>year</td>\n",
       "      <td>379.0</td>\n",
       "      <td>2004.295515</td>\n",
       "      <td>9.131448</td>\n",
       "      <td>1989.0</td>\n",
       "      <td>1996.00</td>\n",
       "      <td>2004.0</td>\n",
       "      <td>2012.00</td>\n",
       "      <td>2020.0</td>\n",
       "    </tr>\n",
       "    <tr>\n",
       "      <td>month</td>\n",
       "      <td>379.0</td>\n",
       "      <td>6.453826</td>\n",
       "      <td>3.451839</td>\n",
       "      <td>1.0</td>\n",
       "      <td>3.00</td>\n",
       "      <td>6.0</td>\n",
       "      <td>9.00</td>\n",
       "      <td>12.0</td>\n",
       "    </tr>\n",
       "    <tr>\n",
       "      <td>temperature</td>\n",
       "      <td>379.0</td>\n",
       "      <td>10.234777</td>\n",
       "      <td>6.278860</td>\n",
       "      <td>-2.4</td>\n",
       "      <td>4.80</td>\n",
       "      <td>9.8</td>\n",
       "      <td>15.85</td>\n",
       "      <td>23.6</td>\n",
       "    </tr>\n",
       "    <tr>\n",
       "      <td>rain</td>\n",
       "      <td>379.0</td>\n",
       "      <td>61.920622</td>\n",
       "      <td>35.808626</td>\n",
       "      <td>0.1</td>\n",
       "      <td>37.45</td>\n",
       "      <td>57.8</td>\n",
       "      <td>77.90</td>\n",
       "      <td>218.2</td>\n",
       "    </tr>\n",
       "    <tr>\n",
       "      <td>sunshine</td>\n",
       "      <td>379.0</td>\n",
       "      <td>138.935799</td>\n",
       "      <td>83.381810</td>\n",
       "      <td>7.9</td>\n",
       "      <td>59.55</td>\n",
       "      <td>138.1</td>\n",
       "      <td>205.45</td>\n",
       "      <td>341.9</td>\n",
       "    </tr>\n",
       "  </tbody>\n",
       "</table>\n",
       "</div>"
      ],
      "text/plain": [
       "             count         mean        std     min      25%     50%      75%  \\\n",
       "year         379.0  2004.295515   9.131448  1989.0  1996.00  2004.0  2012.00   \n",
       "month        379.0     6.453826   3.451839     1.0     3.00     6.0     9.00   \n",
       "temperature  379.0    10.234777   6.278860    -2.4     4.80     9.8    15.85   \n",
       "rain         379.0    61.920622  35.808626     0.1    37.45    57.8    77.90   \n",
       "sunshine     379.0   138.935799  83.381810     7.9    59.55   138.1   205.45   \n",
       "\n",
       "                max  \n",
       "year         2020.0  \n",
       "month          12.0  \n",
       "temperature    23.6  \n",
       "rain          218.2  \n",
       "sunshine      341.9  "
      ]
     },
     "execution_count": 90,
     "metadata": {},
     "output_type": "execute_result"
    }
   ],
   "source": [
    "weather.iloc[:,1:].describe().T"
   ]
  },
  {
   "cell_type": "code",
   "execution_count": 91,
   "metadata": {},
   "outputs": [
    {
     "data": {
      "text/html": [
       "<div>\n",
       "<style scoped>\n",
       "    .dataframe tbody tr th:only-of-type {\n",
       "        vertical-align: middle;\n",
       "    }\n",
       "\n",
       "    .dataframe tbody tr th {\n",
       "        vertical-align: top;\n",
       "    }\n",
       "\n",
       "    .dataframe thead th {\n",
       "        text-align: right;\n",
       "    }\n",
       "</style>\n",
       "<table border=\"1\" class=\"dataframe\">\n",
       "  <thead>\n",
       "    <tr style=\"text-align: right;\">\n",
       "      <th></th>\n",
       "      <th>time</th>\n",
       "      <th>year</th>\n",
       "      <th>month</th>\n",
       "      <th>temperature</th>\n",
       "      <th>rain</th>\n",
       "      <th>sunshine</th>\n",
       "    </tr>\n",
       "  </thead>\n",
       "  <tbody>\n",
       "    <tr>\n",
       "      <td>0</td>\n",
       "      <td>1989 / 01</td>\n",
       "      <td>1989</td>\n",
       "      <td>1</td>\n",
       "      <td>2.5</td>\n",
       "      <td>14.4</td>\n",
       "      <td>34.2</td>\n",
       "    </tr>\n",
       "    <tr>\n",
       "      <td>1</td>\n",
       "      <td>1989 / 02</td>\n",
       "      <td>1989</td>\n",
       "      <td>2</td>\n",
       "      <td>3.0</td>\n",
       "      <td>55.6</td>\n",
       "      <td>31.1</td>\n",
       "    </tr>\n",
       "    <tr>\n",
       "      <td>2</td>\n",
       "      <td>1989 / 03</td>\n",
       "      <td>1989</td>\n",
       "      <td>3</td>\n",
       "      <td>8.6</td>\n",
       "      <td>63.1</td>\n",
       "      <td>148.2</td>\n",
       "    </tr>\n",
       "    <tr>\n",
       "      <td>3</td>\n",
       "      <td>1989 / 04</td>\n",
       "      <td>1989</td>\n",
       "      <td>4</td>\n",
       "      <td>7.2</td>\n",
       "      <td>119.8</td>\n",
       "      <td>91.6</td>\n",
       "    </tr>\n",
       "    <tr>\n",
       "      <td>4</td>\n",
       "      <td>1989 / 05</td>\n",
       "      <td>1989</td>\n",
       "      <td>5</td>\n",
       "      <td>15.5</td>\n",
       "      <td>27.5</td>\n",
       "      <td>341.9</td>\n",
       "    </tr>\n",
       "  </tbody>\n",
       "</table>\n",
       "</div>"
      ],
      "text/plain": [
       "        time  year  month  temperature   rain  sunshine\n",
       "0  1989 / 01  1989      1          2.5   14.4      34.2\n",
       "1  1989 / 02  1989      2          3.0   55.6      31.1\n",
       "2  1989 / 03  1989      3          8.6   63.1     148.2\n",
       "3  1989 / 04  1989      4          7.2  119.8      91.6\n",
       "4  1989 / 05  1989      5         15.5   27.5     341.9"
      ]
     },
     "execution_count": 91,
     "metadata": {},
     "output_type": "execute_result"
    }
   ],
   "source": [
    "weather.head()"
   ]
  },
  {
   "cell_type": "code",
   "execution_count": 94,
   "metadata": {},
   "outputs": [],
   "source": [
    "from statsmodels.tools.eval_measures import rmse\n",
    "from sklearn.preprocessing import MinMaxScaler\n",
    "from keras.preprocessing.sequence import TimeseriesGenerator\n",
    "from keras.models import Sequential\n",
    "from keras.layers import Dense, LSTM\n",
    "import warnings\n",
    "warnings.filterwarnings(\"ignore\")"
   ]
  },
  {
   "cell_type": "code",
   "execution_count": 95,
   "metadata": {},
   "outputs": [],
   "source": [
    "rain_df = weather[['time', 'rain']]\n",
    "rain_df.time = pd.to_datetime(rain_df.time)\n",
    "rain_df = rain_df.set_index('time')"
   ]
  },
  {
   "cell_type": "code",
   "execution_count": 96,
   "metadata": {},
   "outputs": [
    {
     "data": {
      "text/html": [
       "<div>\n",
       "<style scoped>\n",
       "    .dataframe tbody tr th:only-of-type {\n",
       "        vertical-align: middle;\n",
       "    }\n",
       "\n",
       "    .dataframe tbody tr th {\n",
       "        vertical-align: top;\n",
       "    }\n",
       "\n",
       "    .dataframe thead th {\n",
       "        text-align: right;\n",
       "    }\n",
       "</style>\n",
       "<table border=\"1\" class=\"dataframe\">\n",
       "  <thead>\n",
       "    <tr style=\"text-align: right;\">\n",
       "      <th></th>\n",
       "      <th>rain</th>\n",
       "    </tr>\n",
       "    <tr>\n",
       "      <th>time</th>\n",
       "      <th></th>\n",
       "    </tr>\n",
       "  </thead>\n",
       "  <tbody>\n",
       "    <tr>\n",
       "      <td>1989-01-01</td>\n",
       "      <td>14.4</td>\n",
       "    </tr>\n",
       "    <tr>\n",
       "      <td>1989-02-01</td>\n",
       "      <td>55.6</td>\n",
       "    </tr>\n",
       "    <tr>\n",
       "      <td>1989-03-01</td>\n",
       "      <td>63.1</td>\n",
       "    </tr>\n",
       "    <tr>\n",
       "      <td>1989-04-01</td>\n",
       "      <td>119.8</td>\n",
       "    </tr>\n",
       "    <tr>\n",
       "      <td>1989-05-01</td>\n",
       "      <td>27.5</td>\n",
       "    </tr>\n",
       "  </tbody>\n",
       "</table>\n",
       "</div>"
      ],
      "text/plain": [
       "             rain\n",
       "time             \n",
       "1989-01-01   14.4\n",
       "1989-02-01   55.6\n",
       "1989-03-01   63.1\n",
       "1989-04-01  119.8\n",
       "1989-05-01   27.5"
      ]
     },
     "execution_count": 96,
     "metadata": {},
     "output_type": "execute_result"
    }
   ],
   "source": [
    "rain_df.head()"
   ]
  },
  {
   "cell_type": "code",
   "execution_count": 61,
   "metadata": {},
   "outputs": [],
   "source": [
    "train, test = rain_df[:-12], rain_df[-12:]"
   ]
  },
  {
   "cell_type": "code",
   "execution_count": 97,
   "metadata": {},
   "outputs": [],
   "source": [
    "scaler = MinMaxScaler(feature_range = (0, 1))\n",
    "#scaler.fit(train)\n",
    "train_scaled = scaler.fit_transform(train)\n",
    "test_scaled = scaler.fit_transform(test)"
   ]
  },
  {
   "cell_type": "code",
   "execution_count": 99,
   "metadata": {},
   "outputs": [],
   "source": [
    "n_timestamp = 10\n",
    "\n",
    "#\n",
    "# Split data into n_timestamp\n",
    "#\n",
    "def data_split(sequence, n_timestamp):\n",
    "    X = []\n",
    "    y = []\n",
    "    for i in range(len(sequence)):\n",
    "        end_ix = i + n_timestamp\n",
    "        if end_ix > len(sequence)-1:\n",
    "            break\n",
    "        # i to end_ix as input\n",
    "        # end_ix as target output\n",
    "        seq_x, seq_y = sequence[i:end_ix], sequence[end_ix]\n",
    "        X.append(seq_x)\n",
    "        y.append(seq_y)\n",
    "    return np.array(X), np.array(y)\n",
    "\n",
    "\n",
    "X_train, y_train = data_split(train_scaled, n_timestamp)\n",
    "X_train = X_train.reshape(X_train.shape[0], X_train.shape[1], 1)\n",
    "X_test, y_test = data_split(test_scaled, n_timestamp)\n",
    "X_test = X_test.reshape(X_test.shape[0], X_test.shape[1], 1)"
   ]
  },
  {
   "cell_type": "code",
   "execution_count": 103,
   "metadata": {},
   "outputs": [],
   "source": [
    "# Single cell LSTM\n",
    "model = Sequential()\n",
    "model.add(LSTM(units = 50, activation='relu',input_shape = (X_train.shape[1], 1)))\n",
    "model.add(Dense(units = 1))"
   ]
  },
  {
   "cell_type": "code",
   "execution_count": 104,
   "metadata": {},
   "outputs": [
    {
     "name": "stdout",
     "output_type": "stream",
     "text": [
      "Epoch 1/25\n",
      "357/357 [==============================] - 3s 9ms/step - loss: 0.0886\n",
      "Epoch 2/25\n",
      "357/357 [==============================] - 0s 1ms/step - loss: 0.0402\n",
      "Epoch 3/25\n",
      "357/357 [==============================] - 1s 1ms/step - loss: 0.0300\n",
      "Epoch 4/25\n",
      "357/357 [==============================] - 1s 2ms/step - loss: 0.0281\n",
      "Epoch 5/25\n",
      "357/357 [==============================] - 1s 2ms/step - loss: 0.0281\n",
      "Epoch 6/25\n",
      "357/357 [==============================] - 1s 2ms/step - loss: 0.0277\n",
      "Epoch 7/25\n",
      "357/357 [==============================] - 1s 2ms/step - loss: 0.0276\n",
      "Epoch 8/25\n",
      "357/357 [==============================] - 1s 2ms/step - loss: 0.0276\n",
      "Epoch 9/25\n",
      "357/357 [==============================] - 1s 4ms/step - loss: 0.0275\n",
      "Epoch 10/25\n",
      "357/357 [==============================] - 2s 5ms/step - loss: 0.0276\n",
      "Epoch 11/25\n",
      "357/357 [==============================] - 3s 8ms/step - loss: 0.0275\n",
      "Epoch 12/25\n",
      "357/357 [==============================] - 1s 2ms/step - loss: 0.0275\n",
      "Epoch 13/25\n",
      "357/357 [==============================] - 2s 6ms/step - loss: 0.0275\n",
      "Epoch 14/25\n",
      "357/357 [==============================] - 3s 7ms/step - loss: 0.0275\n",
      "Epoch 15/25\n",
      "357/357 [==============================] - 3s 7ms/step - loss: 0.0276\n",
      "Epoch 16/25\n",
      "357/357 [==============================] - 2s 7ms/step - loss: 0.0275\n",
      "Epoch 17/25\n",
      "357/357 [==============================] - 2s 6ms/step - loss: 0.0275\n",
      "Epoch 18/25\n",
      "357/357 [==============================] - 2s 5ms/step - loss: 0.0274\n",
      "Epoch 19/25\n",
      "357/357 [==============================] - 2s 6ms/step - loss: 0.0277\n",
      "Epoch 20/25\n",
      "357/357 [==============================] - 1s 2ms/step - loss: 0.0274\n",
      "Epoch 21/25\n",
      "357/357 [==============================] - 1s 2ms/step - loss: 0.0276\n",
      "Epoch 22/25\n",
      "357/357 [==============================] - 3s 8ms/step - loss: 0.0274\n",
      "Epoch 23/25\n",
      "357/357 [==============================] - 2s 5ms/step - loss: 0.0274\n",
      "Epoch 24/25\n",
      "357/357 [==============================] - 1s 2ms/step - loss: 0.0274\n",
      "Epoch 25/25\n",
      "357/357 [==============================] - 0s 1ms/step - loss: 0.0274\n"
     ]
    }
   ],
   "source": [
    "#\n",
    "# Start training\n",
    "#\n",
    "model.compile(optimizer = 'adam', loss = 'mean_squared_error')\n",
    "history = model.fit(X_train, y_train, epochs = n_epochs, batch_size = 32)\n",
    "loss = history.history['loss']\n",
    "epochs = range(len(loss))"
   ]
  },
  {
   "cell_type": "code",
   "execution_count": 107,
   "metadata": {},
   "outputs": [
    {
     "data": {
      "text/plain": [
       "array([[0.33058482],\n",
       "       [0.32877696]], dtype=float32)"
      ]
     },
     "execution_count": 107,
     "metadata": {},
     "output_type": "execute_result"
    }
   ],
   "source": [
    "pred = model.predict(X_test)\n",
    "pred"
   ]
  },
  {
   "cell_type": "code",
   "execution_count": 75,
   "metadata": {},
   "outputs": [
    {
     "data": {
      "text/html": [
       "<div>\n",
       "<style scoped>\n",
       "    .dataframe tbody tr th:only-of-type {\n",
       "        vertical-align: middle;\n",
       "    }\n",
       "\n",
       "    .dataframe tbody tr th {\n",
       "        vertical-align: top;\n",
       "    }\n",
       "\n",
       "    .dataframe thead th {\n",
       "        text-align: right;\n",
       "    }\n",
       "</style>\n",
       "<table border=\"1\" class=\"dataframe\">\n",
       "  <thead>\n",
       "    <tr style=\"text-align: right;\">\n",
       "      <th></th>\n",
       "      <th>rain</th>\n",
       "      <th>Predictions</th>\n",
       "    </tr>\n",
       "    <tr>\n",
       "      <th>time</th>\n",
       "      <th></th>\n",
       "      <th></th>\n",
       "    </tr>\n",
       "  </thead>\n",
       "  <tbody>\n",
       "    <tr>\n",
       "      <td>2019-08-01</td>\n",
       "      <td>53.0</td>\n",
       "      <td>61.005542</td>\n",
       "    </tr>\n",
       "    <tr>\n",
       "      <td>2019-09-01</td>\n",
       "      <td>60.1</td>\n",
       "      <td>61.054473</td>\n",
       "    </tr>\n",
       "    <tr>\n",
       "      <td>2019-10-01</td>\n",
       "      <td>96.4</td>\n",
       "      <td>60.947862</td>\n",
       "    </tr>\n",
       "    <tr>\n",
       "      <td>2019-11-01</td>\n",
       "      <td>64.4</td>\n",
       "      <td>61.145751</td>\n",
       "    </tr>\n",
       "    <tr>\n",
       "      <td>2019-12-01</td>\n",
       "      <td>78.5</td>\n",
       "      <td>61.154292</td>\n",
       "    </tr>\n",
       "    <tr>\n",
       "      <td>2020-01-01</td>\n",
       "      <td>44.8</td>\n",
       "      <td>60.867706</td>\n",
       "    </tr>\n",
       "    <tr>\n",
       "      <td>2020-02-01</td>\n",
       "      <td>136.9</td>\n",
       "      <td>60.986244</td>\n",
       "    </tr>\n",
       "    <tr>\n",
       "      <td>2020-03-01</td>\n",
       "      <td>65.1</td>\n",
       "      <td>61.117672</td>\n",
       "    </tr>\n",
       "    <tr>\n",
       "      <td>2020-04-01</td>\n",
       "      <td>16.9</td>\n",
       "      <td>61.134181</td>\n",
       "    </tr>\n",
       "    <tr>\n",
       "      <td>2020-05-01</td>\n",
       "      <td>30.6</td>\n",
       "      <td>61.229925</td>\n",
       "    </tr>\n",
       "    <tr>\n",
       "      <td>2020-06-01</td>\n",
       "      <td>48.6</td>\n",
       "      <td>61.166089</td>\n",
       "    </tr>\n",
       "    <tr>\n",
       "      <td>2020-07-01</td>\n",
       "      <td>3.6</td>\n",
       "      <td>61.319857</td>\n",
       "    </tr>\n",
       "  </tbody>\n",
       "</table>\n",
       "</div>"
      ],
      "text/plain": [
       "             rain  Predictions\n",
       "time                          \n",
       "2019-08-01   53.0    61.005542\n",
       "2019-09-01   60.1    61.054473\n",
       "2019-10-01   96.4    60.947862\n",
       "2019-11-01   64.4    61.145751\n",
       "2019-12-01   78.5    61.154292\n",
       "2020-01-01   44.8    60.867706\n",
       "2020-02-01  136.9    60.986244\n",
       "2020-03-01   65.1    61.117672\n",
       "2020-04-01   16.9    61.134181\n",
       "2020-05-01   30.6    61.229925\n",
       "2020-06-01   48.6    61.166089\n",
       "2020-07-01    3.6    61.319857"
      ]
     },
     "execution_count": 75,
     "metadata": {},
     "output_type": "execute_result"
    }
   ],
   "source": [
    "predict_df = pd.DataFrame(scaler.inverse_transform(pred_list), \n",
    "                          index = rain_df[-n_input:].index,\n",
    "                         columns=['Predictions'])\n",
    "test_df = pd.concat([rain_df,predict_df], axis=1)\n",
    "\n",
    "test_df[-12:]"
   ]
  },
  {
   "cell_type": "code",
   "execution_count": 85,
   "metadata": {},
   "outputs": [
    {
     "name": "stdout",
     "output_type": "stream",
     "text": [
      "34.223030228527676\n"
     ]
    },
    {
     "data": {
      "image/png": "[encoded data removed]",
      "text/plain": [
       "<Figure size 1080x360 with 1 Axes>"
      ]
     },
     "metadata": {
      "needs_background": "light"
     },
     "output_type": "display_data"
    }
   ],
   "source": [
    "from sklearn.metrics import mean_squared_error\n",
    "plt.figure(figsize = (15,5))\n",
    "plt.plot(test_df.rain[-24:], marker='o')\n",
    "plt.xticks(test_df.index,rotation='90')\n",
    "plt.plot(test_df.Predictions)\n",
    "print(np.sqrt(mean_squared_error(test_df.rain[-12:], test_df.Predictions[-12:])))"
   ]
  },
  {
   "cell_type": "code",
   "execution_count": 88,
   "metadata": {},
   "outputs": [
    {
     "name": "stdout",
     "output_type": "stream",
     "text": [
      "Epoch 1/25\n",
      "60/60 [==============================] - 4s 67ms/step - loss: 0.0398\n",
      "Epoch 2/25\n",
      "60/60 [==============================] - 2s 29ms/step - loss: 0.0278\n",
      "Epoch 3/25\n",
      "60/60 [==============================] - 2s 33ms/step - loss: 0.0272\n",
      "Epoch 4/25\n",
      "60/60 [==============================] - 3s 44ms/step - loss: 0.0275\n",
      "Epoch 5/25\n",
      "60/60 [==============================] - 3s 46ms/step - loss: 0.0273\n",
      "Epoch 6/25\n",
      "60/60 [==============================] - 2s 35ms/step - loss: 0.0276\n",
      "Epoch 7/25\n",
      "60/60 [==============================] - 2s 28ms/step - loss: 0.0275\n",
      "Epoch 8/25\n",
      "60/60 [==============================] - 2s 26ms/step - loss: 0.0281: 0s - loss\n",
      "Epoch 9/25\n",
      "60/60 [==============================] - 2s 30ms/step - loss: 0.0275\n",
      "Epoch 10/25\n",
      "60/60 [==============================] - 2s 35ms/step - loss: 0.0271\n",
      "Epoch 11/25\n",
      "60/60 [==============================] - 2s 35ms/step - loss: 0.0275\n",
      "Epoch 12/25\n",
      "60/60 [==============================] - 2s 35ms/step - loss: 0.0277\n",
      "Epoch 13/25\n",
      "60/60 [==============================] - 3s 44ms/step - loss: 0.0271\n",
      "Epoch 14/25\n",
      "60/60 [==============================] - 2s 34ms/step - loss: 0.0272\n",
      "Epoch 15/25\n",
      "60/60 [==============================] - 1s 25ms/step - loss: 0.0276\n",
      "Epoch 16/25\n",
      "60/60 [==============================] - 2s 28ms/step - loss: 0.0273\n",
      "Epoch 17/25\n",
      "60/60 [==============================] - 2s 33ms/step - loss: 0.0273\n",
      "Epoch 18/25\n",
      "60/60 [==============================] - 2s 31ms/step - loss: 0.0272: 0s - loss: 0.03 - ETA: 0s - \n",
      "Epoch 19/25\n",
      "60/60 [==============================] - 2s 36ms/step - loss: 0.0271\n",
      "Epoch 20/25\n",
      "60/60 [==============================] - 2s 34ms/step - loss: 0.0270\n",
      "Epoch 21/25\n",
      "60/60 [==============================] - 2s 35ms/step - loss: 0.0269\n",
      "Epoch 22/25\n",
      "60/60 [==============================] - 2s 31ms/step - loss: 0.0272\n",
      "Epoch 23/25\n",
      "60/60 [==============================] - 2s 29ms/step - loss: 0.0272\n",
      "Epoch 24/25\n",
      "60/60 [==============================] - 2s 28ms/step - loss: 0.0270\n",
      "Epoch 25/25\n",
      "60/60 [==============================] - 2s 34ms/step - loss: 0.0275\n",
      "error: 34.10\n"
     ]
    },
    {
     "data": {
      "image/png": "[encoded data removed]",
      "text/plain": [
       "<Figure size 1080x360 with 1 Axes>"
      ]
     },
     "metadata": {
      "needs_background": "light"
     },
     "output_type": "display_data"
    }
   ],
   "source": [
    "n_epochs = 25\n",
    "n_input = 12\n",
    "n_features = 1\n",
    "\n",
    "generator = TimeseriesGenerator(train, train, length = n_input, batch_size=6)\n",
    "model = Sequential()\n",
    "model.add(LSTM(units = 50, activation= 'relu', input_shape=(n_input, n_features)))\n",
    "#model.add(Dropout(0.15))\n",
    "model.add(Dense(1))\n",
    "model.compile(optimizer='adam', loss='mse')\n",
    "\n",
    "model.fit_generator(generator, epochs = n_epochs)\n",
    "\n",
    "pred_list = []\n",
    "\n",
    "batch = train[-n_input:].reshape((1,n_input, n_features))\n",
    "\n",
    "for i in range(n_input):\n",
    "    pred_list.append(model.predict(batch)[0])\n",
    "    batch = np.append(batch[:, 1:, :], [[pred_list[i]]], axis = 1)\n",
    "\n",
    "predict_df = pd.DataFrame(scaler.inverse_transform(pred_list), \n",
    "                          index = rain_df[-n_input:].index,\n",
    "                         columns=['Predictions'])\n",
    "test_df = pd.concat([rain_df,predict_df], axis=1)\n",
    "\n",
    "plt.figure(figsize = (15,5))\n",
    "plt.plot(test_df.rain[-14:], marker='o')\n",
    "plt.xticks(test_df.index,rotation='90')\n",
    "plt.plot(test_df.Predictions, marker = 'o')\n",
    "print('error: {:.2f}'.format(np.sqrt(mean_squared_error(test_df.rain[-12:], test_df.Predictions[-12:]))))"
   ]
  },
  {
   "cell_type": "code",
   "execution_count": 87,
   "metadata": {},
   "outputs": [
    {
     "name": "stdout",
     "output_type": "stream",
     "text": [
      "error: 34.02\n"
     ]
    },
    {
     "data": {
      "image/png": "[encoded data removed]",
      "text/plain": [
       "<Figure size 1080x360 with 1 Axes>"
      ]
     },
     "metadata": {
      "needs_background": "light"
     },
     "output_type": "display_data"
    }
   ],
   "source": [
    "plt.figure(figsize = (15,5))\n",
    "plt.plot(test_df.rain[-14:], marker='o')\n",
    "plt.xticks(test_df.index,rotation='90')\n",
    "plt.plot(test_df.Predictions, marker = 'o')\n",
    "print('error: {:.2f}'.format(np.sqrt(mean_squared_error(test_df.rain[-12:], test_df.Predictions[-12:]))))"
   ]
  }
 ],
 "metadata": {
  "kernelspec": {
   "display_name": "Python 3",
   "language": "python",
   "name": "python3"
  },
  "language_info": {
   "codemirror_mode": {
    "name": "ipython",
    "version": 3
   },
   "file_extension": ".py",
   "mimetype": "text/x-python",
   "name": "python",
   "nbconvert_exporter": "python",
   "pygments_lexer": "ipython3",
   "version": "3.7.4"
  }
 },
 "nbformat": 4,
 "nbformat_minor": 2
}
