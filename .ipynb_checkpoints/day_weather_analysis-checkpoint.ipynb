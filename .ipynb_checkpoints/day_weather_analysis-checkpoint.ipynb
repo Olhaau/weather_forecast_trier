{
 "cells": [
  {
   "cell_type": "markdown",
   "metadata": {},
   "source": [
    "technical resource:\n",
    "\n",
    "https://www.rs-online.com/designspark/predicting-weather-using-lstm\n",
    "\n",
    "data:\n",
    "https://www.wetterkontor.de/de/wetter/deutschland/monatswerte-station.asp\n"
   ]
  },
  {
   "cell_type": "code",
   "execution_count": null,
   "metadata": {},
   "outputs": [],
   "source": []
  }
 ],
 "metadata": {
  "kernelspec": {
   "display_name": "Python 3",
   "language": "python",
   "name": "python3"
  },
  "language_info": {
   "codemirror_mode": {
    "name": "ipython",
    "version": 3
   },
   "file_extension": ".py",
   "mimetype": "text/x-python",
   "name": "python",
   "nbconvert_exporter": "python",
   "pygments_lexer": "ipython3",
   "version": "3.7.4"
  }
 },
 "nbformat": 4,
 "nbformat_minor": 2
}
